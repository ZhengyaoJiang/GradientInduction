{
 "cells": [
  {
   "cell_type": "code",
   "execution_count": 1,
   "metadata": {},
   "outputs": [
    {
     "name": "stderr",
     "output_type": "stream",
     "text": [
      "/home/trellenuk/anaconda2/lib/python2.7/site-packages/h5py/__init__.py:34: FutureWarning: Conversion of the second argument of issubdtype from `float` to `np.floating` is deprecated. In future, it will be treated as `np.float64 == np.dtype(float).type`.\n",
      "  from ._conv import register_converters as _register_converters\n"
     ]
    },
    {
     "name": "stdout",
     "output_type": "stream",
     "text": [
      "WARNING:tensorflow:From /home/trellenuk/anaconda2/lib/python2.7/site-packages/tensorflow/contrib/learn/python/learn/datasets/base.py:198: retry (from tensorflow.contrib.learn.python.learn.datasets.base) is deprecated and will be removed in a future version.\n",
      "Instructions for updating:\n",
      "Use the retry module or similar alternatives.\n"
     ]
    }
   ],
   "source": [
    "from __future__ import print_function, division, absolute_import\n",
    "from core.clause import *\n",
    "from core.ilp import *\n",
    "from core.rules import *\n",
    "from core.induction import *"
   ]
  },
  {
   "cell_type": "code",
   "execution_count": 3,
   "metadata": {
    "collapsed": true
   },
   "outputs": [],
   "source": [
    "a = Atom(Predicate(\"p\",2), [\"a\", \"b\"])\n",
    "b = Atom(Predicate(\"p\",2), [\"a\", \"c\"])"
   ]
  },
  {
   "cell_type": "code",
   "execution_count": 4,
   "metadata": {},
   "outputs": [
    {
     "data": {
      "text/plain": [
       "False"
      ]
     },
     "execution_count": 4,
     "metadata": {},
     "output_type": "execute_result"
    }
   ],
   "source": [
    "a==b"
   ]
  },
  {
   "cell_type": "code",
   "execution_count": 5,
   "metadata": {},
   "outputs": [
    {
     "data": {
      "text/plain": [
       "True"
      ]
     },
     "execution_count": 5,
     "metadata": {},
     "output_type": "execute_result"
    }
   ],
   "source": [
    "a!=b"
   ]
  },
  {
   "cell_type": "code",
   "execution_count": 7,
   "metadata": {
    "collapsed": true
   },
   "outputs": [],
   "source": [
    "set_all = set([a,b])\n",
    "set_a = set([Atom(Predicate(\"p\",2), [\"a\",\"c\"])])"
   ]
  },
  {
   "cell_type": "code",
   "execution_count": 8,
   "metadata": {},
   "outputs": [
    {
     "name": "stdout",
     "output_type": "stream",
     "text": [
      "p(a,b)\n"
     ]
    }
   ],
   "source": [
    "print(*list(set_all - set_a), sep=\",\")"
   ]
  },
  {
   "cell_type": "markdown",
   "metadata": {},
   "source": [
    "## Predecessor problem\n",
    "The aim of this task is to learn the predecessor relation from examples. The language\n",
    "contains the monadic predicate zero and the successor relation succ. The background\n",
    "knowledge is the set of basic arithmetic facts defining the zero predicate and succ relation:\n",
    "$$B = \\{zero(0), succ(0, 1), succ(1, 2), succ(2, 3), ...\\}$$\n",
    "The positive examples P are:\n",
    "$$P = \\{target(1, 0), target(2, 1), target(3, 2), ...\\}$$\n",
    "In all these examples, target is the name of the target predicate we are trying to learn. In\n",
    "this case, target = predecessor. The negative examples are\n",
    "$$N = \\{target(X, Y ) | (X, Y ) \\in \\{0, ..., 9\\}\\}$$\n",
    "\n",
    "The solution found by ∂ilp is:\n",
    "$$target(X, Y ) \\leftarrow succ(Y, X)$$"
   ]
  },
  {
   "cell_type": "code",
   "execution_count": 2,
   "metadata": {},
   "outputs": [],
   "source": [
    "constants = [str(i) for i in range(10)]\n",
    "background = [Atom(Predicate(\"succ\",2), [constants[i], constants[i+1]]) for i in range(9)]\n",
    "background.append(Atom(Predicate(\"zero\",1), \"0\"))\n",
    "positive = [Atom(Predicate(\"predecessor\",2), [constants[i+1], constants[i]]) for i in range(9)]"
   ]
  },
  {
   "cell_type": "code",
   "execution_count": 3,
   "metadata": {},
   "outputs": [
    {
     "name": "stdout",
     "output_type": "stream",
     "text": [
      "predecessor(1,0),predecessor(2,1),predecessor(3,2),predecessor(4,3),predecessor(5,4),predecessor(6,5),predecessor(7,6),predecessor(8,7),predecessor(9,8)\n"
     ]
    }
   ],
   "source": [
    "print(*positive, sep=\",\")"
   ]
  },
  {
   "cell_type": "code",
   "execution_count": 4,
   "metadata": {
    "collapsed": true
   },
   "outputs": [],
   "source": [
    "all_atom = [Atom(Predicate(\"predecessor\",2), [constants[i], constants[j]]) for i in range(9) for j in range(9)]\n",
    "negative = list(set(all_atom)-set(positive))"
   ]
  },
  {
   "cell_type": "code",
   "execution_count": 5,
   "metadata": {},
   "outputs": [
    {
     "name": "stdout",
     "output_type": "stream",
     "text": [
      "predecessor(8,2),predecessor(2,5),predecessor(1,2),predecessor(5,1),predecessor(0,8),predecessor(5,8),predecessor(8,1),predecessor(6,0),predecessor(1,3),predecessor(5,2),predecessor(3,4),predecessor(8,0),predecessor(6,3),predecessor(1,4),predecessor(5,3),predecessor(0,6),predecessor(4,7),predecessor(3,8),predecessor(5,5),predecessor(4,8),predecessor(7,2),predecessor(0,5),predecessor(2,8),predecessor(1,5),predecessor(5,6),predecessor(1,7),predecessor(0,4),predecessor(6,7),predecessor(3,6),predecessor(5,7),predecessor(0,2),predecessor(1,6),predecessor(8,3),predecessor(6,6),predecessor(0,3),predecessor(5,0),predecessor(0,1),predecessor(6,8),predecessor(2,2),predecessor(6,1),predecessor(7,7),predecessor(6,2),predecessor(0,0),predecessor(2,7),predecessor(2,4),predecessor(1,1),predecessor(3,5),predecessor(7,4),predecessor(8,6),predecessor(0,7),predecessor(4,0),predecessor(4,1),predecessor(3,3),predecessor(8,8),predecessor(4,6),predecessor(7,5),predecessor(2,6),predecessor(7,8),predecessor(3,0),predecessor(7,3),predecessor(4,5),predecessor(2,3),predecessor(1,8),predecessor(8,5),predecessor(6,4),predecessor(3,1),predecessor(7,0),predecessor(2,0),predecessor(4,4),predecessor(3,7),predecessor(8,4),predecessor(4,2),predecessor(7,1)\n"
     ]
    }
   ],
   "source": [
    "print(*negative, sep=\",\")"
   ]
  },
  {
   "cell_type": "code",
   "execution_count": 6,
   "metadata": {
    "collapsed": true
   },
   "outputs": [],
   "source": [
    "language = LanguageFrame(Predicate(\"predecessor\",2), [Predicate(\"zero\",1), Predicate(\"succ\",2)], constants)\n",
    "ilp = ILP(language, background, positive, negative)"
   ]
  },
  {
   "cell_type": "code",
   "execution_count": 7,
   "metadata": {},
   "outputs": [
    {
     "name": "stdout",
     "output_type": "stream",
     "text": [
      "predecessor(X,X),predecessor(Y,X)\n"
     ]
    }
   ],
   "source": [
    "program_temp = ProgramTemplate([], {Predicate(\"predecessor\", 2): [RuleTemplate(1, True),RuleTemplate(1, True)]}, 10)\n",
    "man = RulesManager(language, program_temp)\n",
    "atoms = man.generate_body_atoms(Predicate(\"predecessor\", 2), (\"X\", \"Y\"), (\"X\"))\n",
    "print(*atoms, sep=\",\")"
   ]
  },
  {
   "cell_type": "code",
   "execution_count": 8,
   "metadata": {},
   "outputs": [
    {
     "name": "stdout",
     "output_type": "stream",
     "text": [
      "predecessor(0,1):-predecessor(0,0),predecessor(1,0)\n",
      "predecessor(0,1):-predecessor(0,0),predecessor(1,1)\n",
      "predecessor(0,1):-predecessor(0,0),predecessor(1,2)\n",
      "predecessor(0,1):-predecessor(0,0),predecessor(2,1)\n",
      "predecessor(0,1):-predecessor(0,0),zero(1)\n",
      "predecessor(0,1):-predecessor(0,0),succ(0,1)\n",
      "predecessor(0,1):-predecessor(0,0),succ(1,0)\n",
      "predecessor(0,1):-predecessor(0,0),succ(1,1)\n",
      "predecessor(0,1):-predecessor(0,0),succ(1,2)\n",
      "predecessor(0,1):-predecessor(0,0),succ(2,1)\n",
      "predecessor(0,1):-predecessor(0,2),predecessor(1,0)\n",
      "predecessor(0,1):-predecessor(0,2),predecessor(1,1)\n",
      "predecessor(0,1):-predecessor(0,2),predecessor(1,2)\n",
      "predecessor(0,1):-predecessor(0,2),predecessor(2,1)\n",
      "predecessor(0,1):-predecessor(0,2),zero(1)\n",
      "predecessor(0,1):-predecessor(0,2),succ(0,1)\n",
      "predecessor(0,1):-predecessor(0,2),succ(1,0)\n",
      "predecessor(0,1):-predecessor(0,2),succ(1,1)\n",
      "predecessor(0,1):-predecessor(0,2),succ(1,2)\n",
      "predecessor(0,1):-predecessor(0,2),succ(2,1)\n",
      "predecessor(0,1):-predecessor(1,0),predecessor(0,0)\n",
      "predecessor(0,1):-predecessor(1,0),predecessor(0,2)\n",
      "predecessor(0,1):-predecessor(1,0),predecessor(1,0)\n",
      "predecessor(0,1):-predecessor(1,0),predecessor(1,1)\n",
      "predecessor(0,1):-predecessor(1,0),predecessor(1,2)\n",
      "predecessor(0,1):-predecessor(1,0),predecessor(2,0)\n",
      "predecessor(0,1):-predecessor(1,0),predecessor(2,1)\n",
      "predecessor(0,1):-predecessor(1,0),predecessor(2,2)\n",
      "predecessor(0,1):-predecessor(1,0),zero(0)\n",
      "predecessor(0,1):-predecessor(1,0),zero(1)\n",
      "predecessor(0,1):-predecessor(1,0),zero(2)\n",
      "predecessor(0,1):-predecessor(1,0),succ(0,0)\n",
      "predecessor(0,1):-predecessor(1,0),succ(0,1)\n",
      "predecessor(0,1):-predecessor(1,0),succ(0,2)\n",
      "predecessor(0,1):-predecessor(1,0),succ(1,0)\n",
      "predecessor(0,1):-predecessor(1,0),succ(1,1)\n",
      "predecessor(0,1):-predecessor(1,0),succ(1,2)\n",
      "predecessor(0,1):-predecessor(1,0),succ(2,0)\n",
      "predecessor(0,1):-predecessor(1,0),succ(2,1)\n",
      "predecessor(0,1):-predecessor(1,0),succ(2,2)\n",
      "predecessor(0,1):-predecessor(1,1),predecessor(0,0)\n",
      "predecessor(0,1):-predecessor(1,1),predecessor(0,2)\n",
      "predecessor(0,1):-predecessor(1,1),predecessor(1,0)\n",
      "predecessor(0,1):-predecessor(1,1),predecessor(2,0)\n",
      "predecessor(0,1):-predecessor(1,1),zero(0)\n",
      "predecessor(0,1):-predecessor(1,1),succ(0,0)\n",
      "predecessor(0,1):-predecessor(1,1),succ(0,1)\n",
      "predecessor(0,1):-predecessor(1,1),succ(0,2)\n",
      "predecessor(0,1):-predecessor(1,1),succ(1,0)\n",
      "predecessor(0,1):-predecessor(1,1),succ(2,0)\n",
      "predecessor(0,1):-predecessor(1,2),predecessor(0,0)\n",
      "predecessor(0,1):-predecessor(1,2),predecessor(0,2)\n",
      "predecessor(0,1):-predecessor(1,2),predecessor(1,0)\n",
      "predecessor(0,1):-predecessor(1,2),predecessor(2,0)\n",
      "predecessor(0,1):-predecessor(1,2),zero(0)\n",
      "predecessor(0,1):-predecessor(1,2),succ(0,0)\n",
      "predecessor(0,1):-predecessor(1,2),succ(0,1)\n",
      "predecessor(0,1):-predecessor(1,2),succ(0,2)\n",
      "predecessor(0,1):-predecessor(1,2),succ(1,0)\n",
      "predecessor(0,1):-predecessor(1,2),succ(2,0)\n",
      "predecessor(0,1):-predecessor(2,0),predecessor(1,0)\n",
      "predecessor(0,1):-predecessor(2,0),predecessor(1,1)\n",
      "predecessor(0,1):-predecessor(2,0),predecessor(1,2)\n",
      "predecessor(0,1):-predecessor(2,0),predecessor(2,1)\n",
      "predecessor(0,1):-predecessor(2,0),zero(1)\n",
      "predecessor(0,1):-predecessor(2,0),succ(0,1)\n",
      "predecessor(0,1):-predecessor(2,0),succ(1,0)\n",
      "predecessor(0,1):-predecessor(2,0),succ(1,1)\n",
      "predecessor(0,1):-predecessor(2,0),succ(1,2)\n",
      "predecessor(0,1):-predecessor(2,0),succ(2,1)\n",
      "predecessor(0,1):-predecessor(2,1),predecessor(0,0)\n",
      "predecessor(0,1):-predecessor(2,1),predecessor(0,2)\n",
      "predecessor(0,1):-predecessor(2,1),predecessor(1,0)\n",
      "predecessor(0,1):-predecessor(2,1),predecessor(2,0)\n",
      "predecessor(0,1):-predecessor(2,1),zero(0)\n",
      "predecessor(0,1):-predecessor(2,1),succ(0,0)\n",
      "predecessor(0,1):-predecessor(2,1),succ(0,1)\n",
      "predecessor(0,1):-predecessor(2,1),succ(0,2)\n",
      "predecessor(0,1):-predecessor(2,1),succ(1,0)\n",
      "predecessor(0,1):-predecessor(2,1),succ(2,0)\n",
      "predecessor(0,1):-predecessor(2,2),predecessor(1,0)\n",
      "predecessor(0,1):-predecessor(2,2),succ(0,1)\n",
      "predecessor(0,1):-predecessor(2,2),succ(1,0)\n",
      "predecessor(0,1):-zero(0),predecessor(1,0)\n",
      "predecessor(0,1):-zero(0),predecessor(1,1)\n",
      "predecessor(0,1):-zero(0),predecessor(1,2)\n",
      "predecessor(0,1):-zero(0),predecessor(2,1)\n",
      "predecessor(0,1):-zero(0),zero(1)\n",
      "predecessor(0,1):-zero(0),succ(0,1)\n",
      "predecessor(0,1):-zero(0),succ(1,0)\n",
      "predecessor(0,1):-zero(0),succ(1,1)\n",
      "predecessor(0,1):-zero(0),succ(1,2)\n",
      "predecessor(0,1):-zero(0),succ(2,1)\n",
      "predecessor(0,1):-zero(1),predecessor(0,0)\n",
      "predecessor(0,1):-zero(1),predecessor(0,2)\n",
      "predecessor(0,1):-zero(1),predecessor(1,0)\n",
      "predecessor(0,1):-zero(1),predecessor(2,0)\n",
      "predecessor(0,1):-zero(1),zero(0)\n",
      "predecessor(0,1):-zero(1),succ(0,0)\n",
      "predecessor(0,1):-zero(1),succ(0,1)\n",
      "predecessor(0,1):-zero(1),succ(0,2)\n",
      "predecessor(0,1):-zero(1),succ(1,0)\n",
      "predecessor(0,1):-zero(1),succ(2,0)\n",
      "predecessor(0,1):-zero(2),predecessor(1,0)\n",
      "predecessor(0,1):-zero(2),succ(0,1)\n",
      "predecessor(0,1):-zero(2),succ(1,0)\n",
      "predecessor(0,1):-succ(0,0),predecessor(1,0)\n",
      "predecessor(0,1):-succ(0,0),predecessor(1,1)\n",
      "predecessor(0,1):-succ(0,0),predecessor(1,2)\n",
      "predecessor(0,1):-succ(0,0),predecessor(2,1)\n",
      "predecessor(0,1):-succ(0,0),zero(1)\n",
      "predecessor(0,1):-succ(0,0),succ(0,1)\n",
      "predecessor(0,1):-succ(0,0),succ(1,0)\n",
      "predecessor(0,1):-succ(0,0),succ(1,1)\n",
      "predecessor(0,1):-succ(0,0),succ(1,2)\n",
      "predecessor(0,1):-succ(0,0),succ(2,1)\n",
      "predecessor(0,1):-succ(0,1),predecessor(0,0)\n",
      "predecessor(0,1):-succ(0,1),predecessor(0,2)\n",
      "predecessor(0,1):-succ(0,1),predecessor(1,0)\n",
      "predecessor(0,1):-succ(0,1),predecessor(1,1)\n",
      "predecessor(0,1):-succ(0,1),predecessor(1,2)\n",
      "predecessor(0,1):-succ(0,1),predecessor(2,0)\n",
      "predecessor(0,1):-succ(0,1),predecessor(2,1)\n",
      "predecessor(0,1):-succ(0,1),predecessor(2,2)\n",
      "predecessor(0,1):-succ(0,1),zero(0)\n",
      "predecessor(0,1):-succ(0,1),zero(1)\n",
      "predecessor(0,1):-succ(0,1),zero(2)\n",
      "predecessor(0,1):-succ(0,1),succ(0,0)\n",
      "predecessor(0,1):-succ(0,1),succ(0,1)\n",
      "predecessor(0,1):-succ(0,1),succ(0,2)\n",
      "predecessor(0,1):-succ(0,1),succ(1,0)\n",
      "predecessor(0,1):-succ(0,1),succ(1,1)\n",
      "predecessor(0,1):-succ(0,1),succ(1,2)\n",
      "predecessor(0,1):-succ(0,1),succ(2,0)\n",
      "predecessor(0,1):-succ(0,1),succ(2,1)\n",
      "predecessor(0,1):-succ(0,1),succ(2,2)\n",
      "predecessor(0,1):-succ(0,2),predecessor(1,0)\n",
      "predecessor(0,1):-succ(0,2),predecessor(1,1)\n",
      "predecessor(0,1):-succ(0,2),predecessor(1,2)\n",
      "predecessor(0,1):-succ(0,2),predecessor(2,1)\n",
      "predecessor(0,1):-succ(0,2),zero(1)\n",
      "predecessor(0,1):-succ(0,2),succ(0,1)\n",
      "predecessor(0,1):-succ(0,2),succ(1,0)\n",
      "predecessor(0,1):-succ(0,2),succ(1,1)\n",
      "predecessor(0,1):-succ(0,2),succ(1,2)\n",
      "predecessor(0,1):-succ(0,2),succ(2,1)\n",
      "predecessor(0,1):-succ(1,0),predecessor(0,0)\n",
      "predecessor(0,1):-succ(1,0),predecessor(0,2)\n",
      "predecessor(0,1):-succ(1,0),predecessor(1,0)\n",
      "predecessor(0,1):-succ(1,0),predecessor(1,1)\n",
      "predecessor(0,1):-succ(1,0),predecessor(1,2)\n",
      "predecessor(0,1):-succ(1,0),predecessor(2,0)\n",
      "predecessor(0,1):-succ(1,0),predecessor(2,1)\n",
      "predecessor(0,1):-succ(1,0),predecessor(2,2)\n",
      "predecessor(0,1):-succ(1,0),zero(0)\n",
      "predecessor(0,1):-succ(1,0),zero(1)\n",
      "predecessor(0,1):-succ(1,0),zero(2)\n",
      "predecessor(0,1):-succ(1,0),succ(0,0)\n",
      "predecessor(0,1):-succ(1,0),succ(0,1)\n",
      "predecessor(0,1):-succ(1,0),succ(0,2)\n",
      "predecessor(0,1):-succ(1,0),succ(1,0)\n",
      "predecessor(0,1):-succ(1,0),succ(1,1)\n",
      "predecessor(0,1):-succ(1,0),succ(1,2)\n",
      "predecessor(0,1):-succ(1,0),succ(2,0)\n",
      "predecessor(0,1):-succ(1,0),succ(2,1)\n",
      "predecessor(0,1):-succ(1,0),succ(2,2)\n",
      "predecessor(0,1):-succ(1,1),predecessor(0,0)\n",
      "predecessor(0,1):-succ(1,1),predecessor(0,2)\n",
      "predecessor(0,1):-succ(1,1),predecessor(1,0)\n",
      "predecessor(0,1):-succ(1,1),predecessor(2,0)\n",
      "predecessor(0,1):-succ(1,1),zero(0)\n",
      "predecessor(0,1):-succ(1,1),succ(0,0)\n",
      "predecessor(0,1):-succ(1,1),succ(0,1)\n",
      "predecessor(0,1):-succ(1,1),succ(0,2)\n",
      "predecessor(0,1):-succ(1,1),succ(1,0)\n",
      "predecessor(0,1):-succ(1,1),succ(2,0)\n",
      "predecessor(0,1):-succ(1,2),predecessor(0,0)\n",
      "predecessor(0,1):-succ(1,2),predecessor(0,2)\n",
      "predecessor(0,1):-succ(1,2),predecessor(1,0)\n",
      "predecessor(0,1):-succ(1,2),predecessor(2,0)\n",
      "predecessor(0,1):-succ(1,2),zero(0)\n",
      "predecessor(0,1):-succ(1,2),succ(0,0)\n",
      "predecessor(0,1):-succ(1,2),succ(0,1)\n",
      "predecessor(0,1):-succ(1,2),succ(0,2)\n",
      "predecessor(0,1):-succ(1,2),succ(1,0)\n",
      "predecessor(0,1):-succ(1,2),succ(2,0)\n",
      "predecessor(0,1):-succ(2,0),predecessor(1,0)\n",
      "predecessor(0,1):-succ(2,0),predecessor(1,1)\n",
      "predecessor(0,1):-succ(2,0),predecessor(1,2)\n",
      "predecessor(0,1):-succ(2,0),predecessor(2,1)\n",
      "predecessor(0,1):-succ(2,0),zero(1)\n",
      "predecessor(0,1):-succ(2,0),succ(0,1)\n",
      "predecessor(0,1):-succ(2,0),succ(1,0)\n",
      "predecessor(0,1):-succ(2,0),succ(1,1)\n",
      "predecessor(0,1):-succ(2,0),succ(1,2)\n",
      "predecessor(0,1):-succ(2,0),succ(2,1)\n",
      "predecessor(0,1):-succ(2,1),predecessor(0,0)\n",
      "predecessor(0,1):-succ(2,1),predecessor(0,2)\n",
      "predecessor(0,1):-succ(2,1),predecessor(1,0)\n",
      "predecessor(0,1):-succ(2,1),predecessor(2,0)\n",
      "predecessor(0,1):-succ(2,1),zero(0)\n",
      "predecessor(0,1):-succ(2,1),succ(0,0)\n",
      "predecessor(0,1):-succ(2,1),succ(0,1)\n",
      "predecessor(0,1):-succ(2,1),succ(0,2)\n",
      "predecessor(0,1):-succ(2,1),succ(1,0)\n",
      "predecessor(0,1):-succ(2,1),succ(2,0)\n",
      "predecessor(0,1):-succ(2,2),predecessor(1,0)\n",
      "predecessor(0,1):-succ(2,2),succ(0,1)\n",
      "predecessor(0,1):-succ(2,2),succ(1,0)\n"
     ]
    }
   ],
   "source": [
    "clauses = man.generate_clauses(Predicate(\"predecessor\", 2), RuleTemplate(1, True))\n",
    "print(*clauses, sep=\"\\n\")"
   ]
  },
  {
   "cell_type": "code",
   "execution_count": 9,
   "metadata": {},
   "outputs": [
    {
     "name": "stdout",
     "output_type": "stream",
     "text": [
      "Empty(), zero(0), zero(1), zero(2), zero(3), zero(4), zero(5), zero(6), zero(7), zero(8), zero(9), succ(0,0), succ(0,1), succ(0,2), succ(0,3), succ(0,4), succ(0,5), succ(0,6), succ(0,7), succ(0,8), succ(0,9), succ(1,0), succ(1,1), succ(1,2), succ(1,3), succ(1,4), succ(1,5), succ(1,6), succ(1,7), succ(1,8), succ(1,9), succ(2,0), succ(2,1), succ(2,2), succ(2,3), succ(2,4), succ(2,5), succ(2,6), succ(2,7), succ(2,8), succ(2,9), succ(3,0), succ(3,1), succ(3,2), succ(3,3), succ(3,4), succ(3,5), succ(3,6), succ(3,7), succ(3,8), succ(3,9), succ(4,0), succ(4,1), succ(4,2), succ(4,3), succ(4,4), succ(4,5), succ(4,6), succ(4,7), succ(4,8), succ(4,9), succ(5,0), succ(5,1), succ(5,2), succ(5,3), succ(5,4), succ(5,5), succ(5,6), succ(5,7), succ(5,8), succ(5,9), succ(6,0), succ(6,1), succ(6,2), succ(6,3), succ(6,4), succ(6,5), succ(6,6), succ(6,7), succ(6,8), succ(6,9), succ(7,0), succ(7,1), succ(7,2), succ(7,3), succ(7,4), succ(7,5), succ(7,6), succ(7,7), succ(7,8), succ(7,9), succ(8,0), succ(8,1), succ(8,2), succ(8,3), succ(8,4), succ(8,5), succ(8,6), succ(8,7), succ(8,8), succ(8,9), succ(9,0), succ(9,1), succ(9,2), succ(9,3), succ(9,4), succ(9,5), succ(9,6), succ(9,7), succ(9,8), succ(9,9), predecessor(0,0), predecessor(0,1), predecessor(0,2), predecessor(0,3), predecessor(0,4), predecessor(0,5), predecessor(0,6), predecessor(0,7), predecessor(0,8), predecessor(0,9), predecessor(1,0), predecessor(1,1), predecessor(1,2), predecessor(1,3), predecessor(1,4), predecessor(1,5), predecessor(1,6), predecessor(1,7), predecessor(1,8), predecessor(1,9), predecessor(2,0), predecessor(2,1), predecessor(2,2), predecessor(2,3), predecessor(2,4), predecessor(2,5), predecessor(2,6), predecessor(2,7), predecessor(2,8), predecessor(2,9), predecessor(3,0), predecessor(3,1), predecessor(3,2), predecessor(3,3), predecessor(3,4), predecessor(3,5), predecessor(3,6), predecessor(3,7), predecessor(3,8), predecessor(3,9), predecessor(4,0), predecessor(4,1), predecessor(4,2), predecessor(4,3), predecessor(4,4), predecessor(4,5), predecessor(4,6), predecessor(4,7), predecessor(4,8), predecessor(4,9), predecessor(5,0), predecessor(5,1), predecessor(5,2), predecessor(5,3), predecessor(5,4), predecessor(5,5), predecessor(5,6), predecessor(5,7), predecessor(5,8), predecessor(5,9), predecessor(6,0), predecessor(6,1), predecessor(6,2), predecessor(6,3), predecessor(6,4), predecessor(6,5), predecessor(6,6), predecessor(6,7), predecessor(6,8), predecessor(6,9), predecessor(7,0), predecessor(7,1), predecessor(7,2), predecessor(7,3), predecessor(7,4), predecessor(7,5), predecessor(7,6), predecessor(7,7), predecessor(7,8), predecessor(7,9), predecessor(8,0), predecessor(8,1), predecessor(8,2), predecessor(8,3), predecessor(8,4), predecessor(8,5), predecessor(8,6), predecessor(8,7), predecessor(8,8), predecessor(8,9), predecessor(9,0), predecessor(9,1), predecessor(9,2), predecessor(9,3), predecessor(9,4), predecessor(9,5), predecessor(9,6), predecessor(9,7), predecessor(9,8), predecessor(9,9)\n"
     ]
    }
   ],
   "source": [
    "print(*man.all_grounds, sep=\", \")"
   ]
  },
  {
   "cell_type": "code",
   "execution_count": 10,
   "metadata": {},
   "outputs": [
    {
     "data": {
      "text/plain": [
       "[(11, 32),\n",
       " (22, 32),\n",
       " (33, 32),\n",
       " (44, 32),\n",
       " (55, 32),\n",
       " (66, 32),\n",
       " (77, 32),\n",
       " (88, 32),\n",
       " (99, 32),\n",
       " (110, 32)]"
      ]
     },
     "execution_count": 10,
     "metadata": {},
     "output_type": "execute_result"
    }
   ],
   "source": [
    "man.find_satisfy_by_head(clauses[-1], Atom(Predicate(\"predecessor\",2), [\"1\",\"2\"]))"
   ]
  },
  {
   "cell_type": "code",
   "execution_count": 11,
   "metadata": {},
   "outputs": [
    {
     "name": "stdout",
     "output_type": "stream",
     "text": [
      "succ(0,0) succ(2,1)\n"
     ]
    }
   ],
   "source": [
    "print(man.all_grounds[11], man.all_grounds[32])\n",
    "# finish test of rules manager"
   ]
  },
  {
   "cell_type": "code",
   "execution_count": 12,
   "metadata": {},
   "outputs": [
    {
     "name": "stdout",
     "output_type": "stream",
     "text": [
      "Predicate(name='predecessor', arity=2)\n"
     ]
    }
   ],
   "source": [
    "for predicate, clauses in man.all_clauses.items():\n",
    "    print(predicate)"
   ]
  },
  {
   "cell_type": "code",
   "execution_count": 13,
   "metadata": {},
   "outputs": [
    {
     "ename": "IndexError",
     "evalue": "too many indices for array",
     "traceback": [
      "\u001b[0;31m---------------------------------------------------------------------------\u001b[0m",
      "\u001b[0;31mIndexError\u001b[0m                                Traceback (most recent call last)",
      "\u001b[0;32m<ipython-input-13-aa4e79f22477>\u001b[0m in \u001b[0;36m<module>\u001b[0;34m()\u001b[0m\n\u001b[1;32m      1\u001b[0m \u001b[0magent\u001b[0m \u001b[0;34m=\u001b[0m \u001b[0mAgent\u001b[0m\u001b[0;34m(\u001b[0m\u001b[0mman\u001b[0m\u001b[0;34m,\u001b[0m\u001b[0mbackground\u001b[0m\u001b[0;34m)\u001b[0m\u001b[0;34m\u001b[0m\u001b[0m\n\u001b[1;32m      2\u001b[0m \u001b[0;34m\u001b[0m\u001b[0m\n\u001b[0;32m----> 3\u001b[0;31m \u001b[0magent\u001b[0m\u001b[0;34m.\u001b[0m\u001b[0minference_step\u001b[0m\u001b[0;34m(\u001b[0m\u001b[0magent\u001b[0m\u001b[0;34m.\u001b[0m\u001b[0mbase_valuation\u001b[0m\u001b[0;34m)\u001b[0m\u001b[0;34m\u001b[0m\u001b[0m\n\u001b[0m",
      "\u001b[0;32m/home/trellenuk/project/DILP/core/induction.py\u001b[0m in \u001b[0;36minference_step\u001b[0;34m(self, valuation)\u001b[0m\n\u001b[1;32m     42\u001b[0m         \u001b[0;31m# deduction_matrices = self.rules_manager.deducation_matrices[predicate]\u001b[0m\u001b[0;34m\u001b[0m\u001b[0;34m\u001b[0m\u001b[0m\n\u001b[1;32m     43\u001b[0m         \u001b[0;32mfor\u001b[0m \u001b[0mpredicate\u001b[0m\u001b[0;34m,\u001b[0m \u001b[0mmatrix\u001b[0m \u001b[0;32min\u001b[0m \u001b[0mself\u001b[0m\u001b[0;34m.\u001b[0m\u001b[0mrules_manager\u001b[0m\u001b[0;34m.\u001b[0m\u001b[0mdeduction_matrices\u001b[0m\u001b[0;34m.\u001b[0m\u001b[0mitems\u001b[0m\u001b[0;34m(\u001b[0m\u001b[0;34m)\u001b[0m\u001b[0;34m:\u001b[0m\u001b[0;34m\u001b[0m\u001b[0m\n\u001b[0;32m---> 44\u001b[0;31m             \u001b[0mdeduced_valuation\u001b[0m \u001b[0;34m+=\u001b[0m \u001b[0mAgent\u001b[0m\u001b[0;34m.\u001b[0m\u001b[0minference_single_predicate\u001b[0m\u001b[0;34m(\u001b[0m\u001b[0mvaluation\u001b[0m\u001b[0;34m,\u001b[0m \u001b[0mmatrix\u001b[0m\u001b[0;34m,\u001b[0m \u001b[0mself\u001b[0m\u001b[0;34m.\u001b[0m\u001b[0mrule_weights\u001b[0m\u001b[0;34m[\u001b[0m\u001b[0mpredicate\u001b[0m\u001b[0;34m]\u001b[0m\u001b[0;34m)\u001b[0m\u001b[0;34m\u001b[0m\u001b[0m\n\u001b[0m\u001b[1;32m     45\u001b[0m         \u001b[0;32mreturn\u001b[0m \u001b[0mdeduced_valuation\u001b[0m\u001b[0;34m+\u001b[0m\u001b[0mvaluation\u001b[0m \u001b[0;34m-\u001b[0m \u001b[0mdeduced_valuation\u001b[0m\u001b[0;34m*\u001b[0m\u001b[0mvaluation\u001b[0m\u001b[0;34m\u001b[0m\u001b[0m\n\u001b[1;32m     46\u001b[0m \u001b[0;34m\u001b[0m\u001b[0m\n",
      "\u001b[0;32m/home/trellenuk/project/DILP/core/induction.py\u001b[0m in \u001b[0;36minference_single_predicate\u001b[0;34m(valuation, deduction_matrices, rule_weights)\u001b[0m\n\u001b[1;32m     58\u001b[0m         \u001b[0;32mfor\u001b[0m \u001b[0mi\u001b[0m \u001b[0;32min\u001b[0m \u001b[0mrange\u001b[0m\u001b[0;34m(\u001b[0m\u001b[0mlen\u001b[0m\u001b[0;34m(\u001b[0m\u001b[0mresult_valuations\u001b[0m\u001b[0;34m)\u001b[0m\u001b[0;34m)\u001b[0m\u001b[0;34m:\u001b[0m\u001b[0;34m\u001b[0m\u001b[0m\n\u001b[1;32m     59\u001b[0m             \u001b[0;32mfor\u001b[0m \u001b[0mmatrix\u001b[0m \u001b[0;32min\u001b[0m \u001b[0mdeduction_matrices\u001b[0m\u001b[0;34m[\u001b[0m\u001b[0mi\u001b[0m\u001b[0;34m]\u001b[0m\u001b[0;34m:\u001b[0m\u001b[0;34m\u001b[0m\u001b[0m\n\u001b[0;32m---> 60\u001b[0;31m                 \u001b[0mresult_valuations\u001b[0m\u001b[0;34m[\u001b[0m\u001b[0mi\u001b[0m\u001b[0;34m]\u001b[0m\u001b[0;34m.\u001b[0m\u001b[0mappend\u001b[0m\u001b[0;34m(\u001b[0m\u001b[0mAgent\u001b[0m\u001b[0;34m.\u001b[0m\u001b[0minference_single_clause\u001b[0m\u001b[0;34m(\u001b[0m\u001b[0mvaluation\u001b[0m\u001b[0;34m,\u001b[0m \u001b[0mmatrix\u001b[0m\u001b[0;34m)\u001b[0m\u001b[0;34m)\u001b[0m\u001b[0;34m\u001b[0m\u001b[0m\n\u001b[0m\u001b[1;32m     61\u001b[0m \u001b[0;34m\u001b[0m\u001b[0m\n\u001b[1;32m     62\u001b[0m         \u001b[0mc_p\u001b[0m \u001b[0;34m=\u001b[0m \u001b[0;34m[\u001b[0m\u001b[0;34m]\u001b[0m \u001b[0;31m# flattened\u001b[0m\u001b[0;34m\u001b[0m\u001b[0m\n",
      "\u001b[0;32m/home/trellenuk/project/DILP/core/induction.py\u001b[0m in \u001b[0;36minference_single_clause\u001b[0;34m(valuation, X)\u001b[0m\n\u001b[1;32m     75\u001b[0m         \u001b[0;34m:\u001b[0m\u001b[0;32mreturn\u001b[0m\u001b[0;34m:\u001b[0m \u001b[0mtensor\u001b[0m\u001b[0;34m,\u001b[0m \u001b[0msize\u001b[0m \u001b[0;34m(\u001b[0m\u001b[0mnumber_of_ground_atoms\u001b[0m\u001b[0;34m)\u001b[0m\u001b[0;34m\u001b[0m\u001b[0m\n\u001b[1;32m     76\u001b[0m         '''\n\u001b[0;32m---> 77\u001b[0;31m         \u001b[0mX1\u001b[0m \u001b[0;34m=\u001b[0m \u001b[0mX\u001b[0m\u001b[0;34m[\u001b[0m\u001b[0;34m:\u001b[0m\u001b[0;34m,\u001b[0m \u001b[0;34m:\u001b[0m\u001b[0;34m,\u001b[0m \u001b[0;36m0\u001b[0m\u001b[0;34m]\u001b[0m\u001b[0;34m\u001b[0m\u001b[0m\n\u001b[0m\u001b[1;32m     78\u001b[0m         \u001b[0mX2\u001b[0m \u001b[0;34m=\u001b[0m \u001b[0mX\u001b[0m\u001b[0;34m[\u001b[0m\u001b[0;34m:\u001b[0m\u001b[0;34m,\u001b[0m \u001b[0;34m:\u001b[0m\u001b[0;34m,\u001b[0m \u001b[0;36m1\u001b[0m\u001b[0;34m]\u001b[0m\u001b[0;34m\u001b[0m\u001b[0m\n\u001b[1;32m     79\u001b[0m         \u001b[0mY1\u001b[0m \u001b[0;34m=\u001b[0m \u001b[0mtf\u001b[0m\u001b[0;34m.\u001b[0m\u001b[0mgather_nd\u001b[0m\u001b[0;34m(\u001b[0m\u001b[0mvaluation\u001b[0m\u001b[0;34m,\u001b[0m \u001b[0mX1\u001b[0m\u001b[0;34m)\u001b[0m\u001b[0;34m\u001b[0m\u001b[0m\n",
      "\u001b[0;31mIndexError\u001b[0m: too many indices for array"
     ],
     "output_type": "error"
    }
   ],
   "source": [
    "agent = Agent(man,background)\n",
    "\n",
    "agent.inference_step(agent.base_valuation)"
   ]
  },
  {
   "cell_type": "code",
   "execution_count": null,
   "metadata": {
    "collapsed": true
   },
   "outputs": [],
   "source": []
  },
  {
   "cell_type": "code",
   "execution_count": null,
   "metadata": {
    "collapsed": true
   },
   "outputs": [],
   "source": []
  },
  {
   "cell_type": "code",
   "execution_count": null,
   "metadata": {
    "collapsed": true
   },
   "outputs": [],
   "source": []
  },
  {
   "cell_type": "code",
   "execution_count": null,
   "metadata": {
    "collapsed": true
   },
   "outputs": [],
   "source": []
  },
  {
   "cell_type": "code",
   "execution_count": null,
   "metadata": {
    "collapsed": true
   },
   "outputs": [],
   "source": []
  },
  {
   "cell_type": "code",
   "execution_count": null,
   "metadata": {
    "collapsed": true
   },
   "outputs": [],
   "source": []
  },
  {
   "cell_type": "code",
   "execution_count": null,
   "metadata": {
    "collapsed": true
   },
   "outputs": [],
   "source": []
  },
  {
   "cell_type": "code",
   "execution_count": null,
   "metadata": {
    "collapsed": true
   },
   "outputs": [],
   "source": []
  },
  {
   "cell_type": "code",
   "execution_count": null,
   "metadata": {
    "collapsed": true
   },
   "outputs": [],
   "source": []
  },
  {
   "cell_type": "code",
   "execution_count": null,
   "metadata": {
    "collapsed": true
   },
   "outputs": [],
   "source": []
  },
  {
   "cell_type": "code",
   "execution_count": null,
   "metadata": {
    "collapsed": true
   },
   "outputs": [],
   "source": []
  },
  {
   "cell_type": "code",
   "execution_count": null,
   "metadata": {
    "collapsed": true
   },
   "outputs": [],
   "source": []
  },
  {
   "cell_type": "code",
   "execution_count": null,
   "metadata": {
    "collapsed": true
   },
   "outputs": [],
   "source": []
  },
  {
   "cell_type": "code",
   "execution_count": null,
   "metadata": {
    "collapsed": true
   },
   "outputs": [],
   "source": []
  },
  {
   "cell_type": "code",
   "execution_count": null,
   "metadata": {
    "collapsed": true
   },
   "outputs": [],
   "source": []
  },
  {
   "cell_type": "code",
   "execution_count": null,
   "metadata": {
    "collapsed": true
   },
   "outputs": [],
   "source": []
  },
  {
   "cell_type": "code",
   "execution_count": null,
   "metadata": {
    "collapsed": true
   },
   "outputs": [],
   "source": []
  },
  {
   "cell_type": "code",
   "execution_count": null,
   "metadata": {
    "collapsed": true
   },
   "outputs": [],
   "source": []
  },
  {
   "cell_type": "code",
   "execution_count": null,
   "metadata": {
    "collapsed": true
   },
   "outputs": [],
   "source": []
  },
  {
   "cell_type": "code",
   "execution_count": null,
   "metadata": {
    "collapsed": true
   },
   "outputs": [],
   "source": []
  },
  {
   "cell_type": "code",
   "execution_count": null,
   "metadata": {
    "collapsed": true
   },
   "outputs": [],
   "source": []
  },
  {
   "cell_type": "code",
   "execution_count": null,
   "metadata": {
    "collapsed": true
   },
   "outputs": [],
   "source": []
  },
  {
   "cell_type": "code",
   "execution_count": null,
   "metadata": {
    "collapsed": true
   },
   "outputs": [],
   "source": []
  },
  {
   "cell_type": "code",
   "execution_count": null,
   "metadata": {
    "collapsed": true
   },
   "outputs": [],
   "source": []
  },
  {
   "cell_type": "code",
   "execution_count": null,
   "metadata": {
    "collapsed": true
   },
   "outputs": [],
   "source": []
  }
 ],
 "metadata": {
  "kernelspec": {
   "display_name": "Python 2",
   "language": "python",
   "name": "python2"
  },
  "language_info": {
   "codemirror_mode": {
    "name": "ipython",
    "version": 2
   },
   "file_extension": ".py",
   "mimetype": "text/x-python",
   "name": "python",
   "nbconvert_exporter": "python",
   "pygments_lexer": "ipython2",
   "version": "2.7.13"
  }
 },
 "nbformat": 4,
 "nbformat_minor": 2
}
